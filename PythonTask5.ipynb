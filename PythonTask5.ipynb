{
 "cells": [
  {
   "cell_type": "code",
   "execution_count": 1,
   "metadata": {},
   "outputs": [],
   "source": [
    "import numpy as np"
   ]
  },
  {
   "cell_type": "code",
   "execution_count": 17,
   "metadata": {},
   "outputs": [
    {
     "name": "stdout",
     "output_type": "stream",
     "text": [
      "[1. 0. 0. 0. 2. 0. 0. 0. 3. 0. 0. 0. 4. 0. 0. 0. 5.]\n"
     ]
    }
   ],
   "source": [
    "#Дан вектор [1, 2, 3, 4, 5], построить новый вектор с тремя нулями между каждым значением\n",
    "a=np.array([1,2,3,4,5])\n",
    "b=np.zeros(len(a)+(len(a)-1)*3)\n",
    "b[::4]=a\n",
    "print(b)"
   ]
  },
  {
   "cell_type": "code",
   "execution_count": 37,
   "metadata": {},
   "outputs": [
    {
     "name": "stdout",
     "output_type": "stream",
     "text": [
      "[[71 51 24]\n",
      " [61 85 32]\n",
      " [42 93 96]\n",
      " [38  5 65]\n",
      " [67 11 31]]\n",
      "[[61 85 32]\n",
      " [71 51 24]\n",
      " [42 93 96]\n",
      " [38  5 65]\n",
      " [67 11 31]]\n"
     ]
    }
   ],
   "source": [
    "#Поменять 2 строки в матрице\n",
    "a=np.random.randint(0,100,size=(5,3))\n",
    "print(a)\n",
    "a[[0,1]]=a[[1,0]]\n",
    "print(a)"
   ]
  },
  {
   "cell_type": "code",
   "execution_count": 2,
   "metadata": {},
   "outputs": [
    {
     "name": "stdout",
     "output_type": "stream",
     "text": [
      "[( 0,  5) ( 0, 18) ( 3, 27) ( 3, 48) ( 5, 18) ( 5, 39) ( 5, 77) ( 8, 34)\n",
      " ( 8, 37) ( 8, 79) ( 8, 84) (12, 25) (12, 34) (21, 26) (21, 45) (25, 34)\n",
      " (26, 45) (27, 48) (34, 84) (37, 79) (38, 69) (38, 79) (39, 77) (39, 78)\n",
      " (39, 81) (54, 64) (54, 78) (64, 78) (69, 79) (78, 81)]\n"
     ]
    }
   ],
   "source": [
    "#Рассмотрим набор из 10 троек, описывающих 10 треугольников (с общими вершинами), найти множество уникальных отрезков, составляющих все треугольники\n",
    "faces = np.random.randint(0,100,(10,3))\n",
    "a = np.roll(faces.repeat(2,axis=1),-1,axis=1)\n",
    "a = a.reshape(len(a)*3,2)\n",
    "a = np.sort(a,axis=1)\n",
    "b = a.view( dtype=[('p0',a.dtype),('p1',a.dtype)] )\n",
    "b = np.unique(b)\n",
    "print(b)"
   ]
  },
  {
   "cell_type": "code",
   "execution_count": 39,
   "metadata": {},
   "outputs": [
    {
     "data": {
      "text/plain": [
       "array([ True,  True,  True,  True,  True,  True,  True])"
      ]
     },
     "execution_count": 39,
     "metadata": {},
     "output_type": "execute_result"
    }
   ],
   "source": [
    "#Дан массив C; создать массив A, что np.bincount(A) == C\n",
    "C = np.bincount([1,1,2,3,4,4,6])\n",
    "A = np.repeat(np.arange(len(C)), C)\n",
    "np.bincount(A)==C"
   ]
  },
  {
   "cell_type": "code",
   "execution_count": 57,
   "metadata": {},
   "outputs": [
    {
     "name": "stdout",
     "output_type": "stream",
     "text": [
      "[0 1 2 3 4 5 6 7 8 9]\n",
      "[ 0  1  3  6 10 15 21 28 36 45]\n",
      "[1. 2. 3. 4. 5. 6. 7. 8.]\n"
     ]
    }
   ],
   "source": [
    "#Посчитать среднее, используя плавающее окно\n",
    "def moving_average(a, n=3):\n",
    "    ret = np.cumsum(a)\n",
    "    ret[n:] = ret[n:] - ret[:-n]\n",
    "    return ret[n - 1:] / n\n",
    "b = np.arange(10)\n",
    "print(b)\n",
    "print(moving_average(b, 3))"
   ]
  },
  {
   "cell_type": "code",
   "execution_count": 3,
   "metadata": {},
   "outputs": [
    {
     "name": "stdout",
     "output_type": "stream",
     "text": [
      "[[0 1 2]\n",
      " [1 2 3]\n",
      " [2 3 4]\n",
      " [3 4 5]\n",
      " [4 5 6]\n",
      " [5 6 7]\n",
      " [6 7 8]\n",
      " [7 8 9]]\n"
     ]
    }
   ],
   "source": [
    "#Дан вектор Z, построить матрицу, первая строка которой (Z[0],Z[1],Z[2]), каждая последующая сдвинута на 1 (последняя (Z[-3],Z[-2],Z[-1]))\n",
    "from numpy.lib import stride_tricks\n",
    "\n",
    "def rolling(a, window):\n",
    "    shape = (a.size - window + 1, window)\n",
    "    strides = (a.itemsize, a.itemsize)\n",
    "    return stride_tricks.as_strided(a, shape=shape, strides=strides)\n",
    "b = rolling(np.arange(10), 3)\n",
    "print(b)"
   ]
  },
  {
   "cell_type": "code",
   "execution_count": 48,
   "metadata": {
    "scrolled": true
   },
   "outputs": [
    {
     "name": "stdout",
     "output_type": "stream",
     "text": [
      "[[2 3 0 3 2]]\n",
      "[[-2 -3  0 -3 -2]]\n"
     ]
    }
   ],
   "source": [
    "#Инвертировать булево значение, или поменять знак у числового массива без создания нового\n",
    "a=np.random.randint(0,5,size=(1,5))\n",
    "print(a)\n",
    "print(np.negative(a))"
   ]
  },
  {
   "cell_type": "code",
   "execution_count": 7,
   "metadata": {},
   "outputs": [
    {
     "name": "stdout",
     "output_type": "stream",
     "text": [
      "[14.96978088 11.08388047  8.36081544  2.44233026 16.86244189  5.87287039\n",
      "  1.40536308  0.21032294  0.13067488  1.01052368]\n"
     ]
    }
   ],
   "source": [
    "#Рассмотрим 2 набора точек P0, P1 описания линии (2D) и точку р, как вычислить расстояние от р до каждой линии i (P0[i],P1[i])\n",
    "def distance(P0, P1, p):\n",
    "    T = P1 - P0\n",
    "    L = (T**2).sum(axis=1)\n",
    "    U = -((P0[:,0] - p[...,0]) * T[:,0] + (P0[:,1] - p[...,1]) * T[:,1]) / L\n",
    "    U = U.reshape(len(U),1)\n",
    "    D = P0 + U * T - p\n",
    "    return np.sqrt((D**2).sum(axis=1))\n",
    "\n",
    "P0 = np.random.uniform(-10,10,(10,2))\n",
    "P1 = np.random.uniform(-10,10,(10,2))\n",
    "p  = np.random.uniform(-10,10,( 1,2))\n",
    "print(distance(P0, P1, p))"
   ]
  },
  {
   "cell_type": "code",
   "execution_count": 40,
   "metadata": {},
   "outputs": [
    {
     "name": "stdout",
     "output_type": "stream",
     "text": [
      "[[6 6 7 2 9 1 0 8 8 9]\n",
      " [5 2 7 0 2 9 0 7 5 9]\n",
      " [9 4 9 4 9 9 9 2 0 6]\n",
      " [7 1 6 5 6 7 2 8 7 2]\n",
      " [1 7 6 5 8 0 2 8 4 8]\n",
      " [5 9 4 9 2 0 7 2 9 0]\n",
      " [9 5 1 0 8 7 9 3 5 0]\n",
      " [9 1 1 6 1 6 7 2 5 5]\n",
      " [3 0 3 8 3 8 6 2 3 1]\n",
      " [2 0 9 1 7 5 0 4 9 0]]\n",
      "[[0 0 0 0 0]\n",
      " [0 0 0 0 0]\n",
      " [0 0 0 0 0]\n",
      " [0 0 0 0 0]\n",
      " [0 0 0 0 0]]\n",
      "[[6 6 7 2 9 1 0 8 8 9]\n",
      " [5 2 7 0 2 9 0 7 5 9]\n",
      " [9 4 9 4 9 9 9 2 0 6]\n",
      " [7 1 6 5 6 7 2 8 7 2]\n",
      " [1 7 6 5 8 0 2 8 4 8]\n",
      " [5 9 4 9 2 0 7 2 9 0]\n",
      " [9 5 1 0 8 7 9 3 5 0]\n",
      " [9 1 1 6 1 6 7 2 5 5]\n",
      " [3 0 3 8 3 8 6 2 3 1]\n",
      " [2 0 9 1 7 5 0 4 9 0]]\n",
      "[[0 0 0 0 0]\n",
      " [0 6 6 7 2]\n",
      " [0 5 2 7 0]\n",
      " [0 9 4 9 4]\n",
      " [0 7 1 6 5]]\n"
     ]
    },
    {
     "name": "stderr",
     "output_type": "stream",
     "text": [
      "C:\\Users\\Admin\\Anaconda3\\lib\\site-packages\\ipykernel_launcher.py:25: FutureWarning: Using a non-tuple sequence for multidimensional indexing is deprecated; use `arr[tuple(seq)]` instead of `arr[seq]`. In the future this will be interpreted as an array index, `arr[np.array(seq)]`, which will result either in an error or a different result.\n"
     ]
    }
   ],
   "source": [
    "#Дан массив. Написать функцию, выделяющую часть массива фиксированного размера с центром в данном элементе (дополненное значением fill если необходимо)\n",
    "Z = np.random.randint(0,10, (10,10))\n",
    "shape = (5,5)\n",
    "fill  = 0\n",
    "position = (1,1)\n",
    "\n",
    "R = np.ones(shape, dtype=Z.dtype)*fill\n",
    "P  = np.array(list(position)).astype(int)\n",
    "Rs = np.array(list(R.shape)).astype(int)\n",
    "Zs = np.array(list(Z.shape)).astype(int)\n",
    "\n",
    "R_start = np.zeros((len(shape),)).astype(int)\n",
    "R_stop  = np.array(list(shape)).astype(int)\n",
    "Z_start = (P - Rs//2)\n",
    "Z_stop  = (P + Rs//2)+Rs%2\n",
    "\n",
    "R_start = (R_start - np.minimum(Z_start, 0)).tolist()\n",
    "Z_start = (np.maximum(Z_start, 0)).tolist()\n",
    "R_stop = np.maximum(R_start, (R_stop - np.maximum(Z_stop-Zs,0))).tolist()\n",
    "Z_stop = (np.minimum(Z_stop,Zs)).tolist()\n",
    "\n",
    "r = [slice(start,stop) for start,stop in zip(R_start,R_stop)]\n",
    "z = [slice(start,stop) for start,stop in zip(Z_start,Z_stop)]\n",
    "R[r] = Z[z]\n",
    "print(Z)\n",
    "print(R)"
   ]
  },
  {
   "cell_type": "code",
   "execution_count": 45,
   "metadata": {},
   "outputs": [
    {
     "name": "stdout",
     "output_type": "stream",
     "text": [
      "[[7 8 4]\n",
      " [2 8 6]\n",
      " [6 7 2]]\n",
      "3\n"
     ]
    }
   ],
   "source": [
    "#Посчитать ранг матрицы\n",
    "a=np.random.randint(0,10,size=(3,3))\n",
    "print(a)\n",
    "print(np.linalg.matrix_rank(a))"
   ]
  },
  {
   "cell_type": "code",
   "execution_count": 46,
   "metadata": {},
   "outputs": [
    {
     "name": "stdout",
     "output_type": "stream",
     "text": [
      "[8 8 8 3 0 9 6]\n",
      "8\n"
     ]
    }
   ],
   "source": [
    "#Найти наиболее частое значение в массиве\n",
    "a=np.random.randint(0,10,7)\n",
    "print(a)\n",
    "print(np.bincount(a).argmax())"
   ]
  },
  {
   "cell_type": "code",
   "execution_count": 14,
   "metadata": {},
   "outputs": [
    {
     "name": "stdout",
     "output_type": "stream",
     "text": [
      "[[0 1 2 4 3 0 2 1 3 3]\n",
      " [1 3 4 3 0 0 4 3 1 0]\n",
      " [1 2 1 4 0 1 0 4 1 3]\n",
      " [0 2 3 0 3 3 2 2 4 1]\n",
      " [2 1 3 3 2 4 4 4 2 1]\n",
      " [3 0 3 4 3 4 0 0 2 1]\n",
      " [2 1 1 0 4 0 2 0 0 1]\n",
      " [3 2 1 1 0 3 1 2 4 1]\n",
      " [0 4 0 4 0 3 0 4 2 4]\n",
      " [3 1 1 3 3 3 4 3 2 2]]\n",
      "[[[[0 1 2]\n",
      "   [1 3 4]\n",
      "   [1 2 1]]\n",
      "\n",
      "  [[1 2 4]\n",
      "   [3 4 3]\n",
      "   [2 1 4]]\n",
      "\n",
      "  [[2 4 3]\n",
      "   [4 3 0]\n",
      "   [1 4 0]]\n",
      "\n",
      "  [[4 3 0]\n",
      "   [3 0 0]\n",
      "   [4 0 1]]\n",
      "\n",
      "  [[3 0 2]\n",
      "   [0 0 4]\n",
      "   [0 1 0]]\n",
      "\n",
      "  [[0 2 1]\n",
      "   [0 4 3]\n",
      "   [1 0 4]]\n",
      "\n",
      "  [[2 1 3]\n",
      "   [4 3 1]\n",
      "   [0 4 1]]\n",
      "\n",
      "  [[1 3 3]\n",
      "   [3 1 0]\n",
      "   [4 1 3]]]\n",
      "\n",
      "\n",
      " [[[1 3 4]\n",
      "   [1 2 1]\n",
      "   [0 2 3]]\n",
      "\n",
      "  [[3 4 3]\n",
      "   [2 1 4]\n",
      "   [2 3 0]]\n",
      "\n",
      "  [[4 3 0]\n",
      "   [1 4 0]\n",
      "   [3 0 3]]\n",
      "\n",
      "  [[3 0 0]\n",
      "   [4 0 1]\n",
      "   [0 3 3]]\n",
      "\n",
      "  [[0 0 4]\n",
      "   [0 1 0]\n",
      "   [3 3 2]]\n",
      "\n",
      "  [[0 4 3]\n",
      "   [1 0 4]\n",
      "   [3 2 2]]\n",
      "\n",
      "  [[4 3 1]\n",
      "   [0 4 1]\n",
      "   [2 2 4]]\n",
      "\n",
      "  [[3 1 0]\n",
      "   [4 1 3]\n",
      "   [2 4 1]]]\n",
      "\n",
      "\n",
      " [[[1 2 1]\n",
      "   [0 2 3]\n",
      "   [2 1 3]]\n",
      "\n",
      "  [[2 1 4]\n",
      "   [2 3 0]\n",
      "   [1 3 3]]\n",
      "\n",
      "  [[1 4 0]\n",
      "   [3 0 3]\n",
      "   [3 3 2]]\n",
      "\n",
      "  [[4 0 1]\n",
      "   [0 3 3]\n",
      "   [3 2 4]]\n",
      "\n",
      "  [[0 1 0]\n",
      "   [3 3 2]\n",
      "   [2 4 4]]\n",
      "\n",
      "  [[1 0 4]\n",
      "   [3 2 2]\n",
      "   [4 4 4]]\n",
      "\n",
      "  [[0 4 1]\n",
      "   [2 2 4]\n",
      "   [4 4 2]]\n",
      "\n",
      "  [[4 1 3]\n",
      "   [2 4 1]\n",
      "   [4 2 1]]]\n",
      "\n",
      "\n",
      " [[[0 2 3]\n",
      "   [2 1 3]\n",
      "   [3 0 3]]\n",
      "\n",
      "  [[2 3 0]\n",
      "   [1 3 3]\n",
      "   [0 3 4]]\n",
      "\n",
      "  [[3 0 3]\n",
      "   [3 3 2]\n",
      "   [3 4 3]]\n",
      "\n",
      "  [[0 3 3]\n",
      "   [3 2 4]\n",
      "   [4 3 4]]\n",
      "\n",
      "  [[3 3 2]\n",
      "   [2 4 4]\n",
      "   [3 4 0]]\n",
      "\n",
      "  [[3 2 2]\n",
      "   [4 4 4]\n",
      "   [4 0 0]]\n",
      "\n",
      "  [[2 2 4]\n",
      "   [4 4 2]\n",
      "   [0 0 2]]\n",
      "\n",
      "  [[2 4 1]\n",
      "   [4 2 1]\n",
      "   [0 2 1]]]\n",
      "\n",
      "\n",
      " [[[2 1 3]\n",
      "   [3 0 3]\n",
      "   [2 1 1]]\n",
      "\n",
      "  [[1 3 3]\n",
      "   [0 3 4]\n",
      "   [1 1 0]]\n",
      "\n",
      "  [[3 3 2]\n",
      "   [3 4 3]\n",
      "   [1 0 4]]\n",
      "\n",
      "  [[3 2 4]\n",
      "   [4 3 4]\n",
      "   [0 4 0]]\n",
      "\n",
      "  [[2 4 4]\n",
      "   [3 4 0]\n",
      "   [4 0 2]]\n",
      "\n",
      "  [[4 4 4]\n",
      "   [4 0 0]\n",
      "   [0 2 0]]\n",
      "\n",
      "  [[4 4 2]\n",
      "   [0 0 2]\n",
      "   [2 0 0]]\n",
      "\n",
      "  [[4 2 1]\n",
      "   [0 2 1]\n",
      "   [0 0 1]]]\n",
      "\n",
      "\n",
      " [[[3 0 3]\n",
      "   [2 1 1]\n",
      "   [3 2 1]]\n",
      "\n",
      "  [[0 3 4]\n",
      "   [1 1 0]\n",
      "   [2 1 1]]\n",
      "\n",
      "  [[3 4 3]\n",
      "   [1 0 4]\n",
      "   [1 1 0]]\n",
      "\n",
      "  [[4 3 4]\n",
      "   [0 4 0]\n",
      "   [1 0 3]]\n",
      "\n",
      "  [[3 4 0]\n",
      "   [4 0 2]\n",
      "   [0 3 1]]\n",
      "\n",
      "  [[4 0 0]\n",
      "   [0 2 0]\n",
      "   [3 1 2]]\n",
      "\n",
      "  [[0 0 2]\n",
      "   [2 0 0]\n",
      "   [1 2 4]]\n",
      "\n",
      "  [[0 2 1]\n",
      "   [0 0 1]\n",
      "   [2 4 1]]]\n",
      "\n",
      "\n",
      " [[[2 1 1]\n",
      "   [3 2 1]\n",
      "   [0 4 0]]\n",
      "\n",
      "  [[1 1 0]\n",
      "   [2 1 1]\n",
      "   [4 0 4]]\n",
      "\n",
      "  [[1 0 4]\n",
      "   [1 1 0]\n",
      "   [0 4 0]]\n",
      "\n",
      "  [[0 4 0]\n",
      "   [1 0 3]\n",
      "   [4 0 3]]\n",
      "\n",
      "  [[4 0 2]\n",
      "   [0 3 1]\n",
      "   [0 3 0]]\n",
      "\n",
      "  [[0 2 0]\n",
      "   [3 1 2]\n",
      "   [3 0 4]]\n",
      "\n",
      "  [[2 0 0]\n",
      "   [1 2 4]\n",
      "   [0 4 2]]\n",
      "\n",
      "  [[0 0 1]\n",
      "   [2 4 1]\n",
      "   [4 2 4]]]\n",
      "\n",
      "\n",
      " [[[3 2 1]\n",
      "   [0 4 0]\n",
      "   [3 1 1]]\n",
      "\n",
      "  [[2 1 1]\n",
      "   [4 0 4]\n",
      "   [1 1 3]]\n",
      "\n",
      "  [[1 1 0]\n",
      "   [0 4 0]\n",
      "   [1 3 3]]\n",
      "\n",
      "  [[1 0 3]\n",
      "   [4 0 3]\n",
      "   [3 3 3]]\n",
      "\n",
      "  [[0 3 1]\n",
      "   [0 3 0]\n",
      "   [3 3 4]]\n",
      "\n",
      "  [[3 1 2]\n",
      "   [3 0 4]\n",
      "   [3 4 3]]\n",
      "\n",
      "  [[1 2 4]\n",
      "   [0 4 2]\n",
      "   [4 3 2]]\n",
      "\n",
      "  [[2 4 1]\n",
      "   [4 2 4]\n",
      "   [3 2 2]]]]\n"
     ]
    }
   ],
   "source": [
    "#Извлечь все смежные 3x3 блоки из 10x10 матрицы\n",
    "a = np.random.randint(0,5,(10,10))\n",
    "n = 3\n",
    "i = 1 + (a.shape[0] - n)\n",
    "j = 1 + (a.shape[1] - n)\n",
    "b = stride_tricks.as_strided(a, shape=(i, j, n, n), strides=a.strides + a.strides)\n",
    "print(a)\n",
    "print(b)"
   ]
  },
  {
   "cell_type": "code",
   "execution_count": null,
   "metadata": {},
   "outputs": [],
   "source": [
    "#Создать подкласс симметричных 2D массивов (Z[i,j] == Z[j,i])\n",
    "class Symetric(np.ndarray):\n",
    "    def __setitem__(self, (i,j), value):\n",
    "        super(Symetric, self).__setitem__((i,j), value)\n",
    "        super(Symetric, self).__setitem__((j,i), value)\n",
    "\n",
    "def symetric(Z):\n",
    "    return np.asarray(Z + Z.T - np.diag(Z.diagonal())).view(Symetric)\n",
    "\n",
    "S = symetric(np.random.randint(0,10,(5,5)))\n",
    "S[2,3] = 42\n",
    "print(S)"
   ]
  },
  {
   "cell_type": "code",
   "execution_count": 20,
   "metadata": {},
   "outputs": [
    {
     "name": "stdout",
     "output_type": "stream",
     "text": [
      "[[24.]\n",
      " [24.]\n",
      " [24.]\n",
      " [24.]\n",
      " [24.]\n",
      " [24.]]\n"
     ]
    }
   ],
   "source": [
    "#Рассмотрим множество матриц (n,n) и множество из p векторов (n,1). Посчитать сумму p произведений матриц (результат имеет размерность (n,1))\n",
    "p, n = 4, 6\n",
    "M = np.ones((p,n,n))\n",
    "V = np.ones((p,n,1))\n",
    "S = np.tensordot(M, V, axes=[[0, 2], [0, 1]])\n",
    "print(S)"
   ]
  },
  {
   "cell_type": "code",
   "execution_count": 24,
   "metadata": {},
   "outputs": [
    {
     "name": "stdout",
     "output_type": "stream",
     "text": [
      "[[16. 16. 16. 16.]\n",
      " [16. 16. 16. 16.]\n",
      " [16. 16. 16. 16.]\n",
      " [16. 16. 16. 16.]]\n"
     ]
    }
   ],
   "source": [
    "#Дан массив 16x16, посчитать сумму по блокам 4x4\n",
    "Z = np.ones((16,16))\n",
    "k = 4\n",
    "S = np.add.reduceat(np.add.reduceat(Z, np.arange(0, Z.shape[0], k), axis=0),np.arange(0, Z.shape[1], k), axis=1)\n",
    "print(S)"
   ]
  },
  {
   "cell_type": "code",
   "execution_count": 28,
   "metadata": {},
   "outputs": [
    {
     "name": "stdout",
     "output_type": "stream",
     "text": [
      "[7 8 1 5 6 4 2 3 9 0]\n",
      "[8 7 9 6 5]\n"
     ]
    }
   ],
   "source": [
    "#Найти n наибольших значений в массиве\n",
    "a = np.arange(10)\n",
    "np.random.shuffle(a)\n",
    "n = 5\n",
    "print(a)\n",
    "print (a[np.argpartition(-a,n)[:n]])"
   ]
  },
  {
   "cell_type": "code",
   "execution_count": 29,
   "metadata": {},
   "outputs": [
    {
     "name": "stdout",
     "output_type": "stream",
     "text": [
      "[[1 4 6]\n",
      " [1 4 7]\n",
      " [1 5 6]\n",
      " [1 5 7]\n",
      " [2 4 6]\n",
      " [2 4 7]\n",
      " [2 5 6]\n",
      " [2 5 7]\n",
      " [3 4 6]\n",
      " [3 4 7]\n",
      " [3 5 6]\n",
      " [3 5 7]]\n"
     ]
    }
   ],
   "source": [
    "#Построить прямое произведение массивов (все комбинации с каждым элементом)\n",
    "def cartesian(arrays):\n",
    "    arrays = [np.asarray(a) for a in arrays]\n",
    "    shape = map(len, arrays)\n",
    "\n",
    "    ix = np.indices(shape, dtype=int)\n",
    "    ix = ix.reshape(len(arrays), -1).T\n",
    "\n",
    "    for n, arr in enumerate(arrays):\n",
    "        ix[:, n] = arrays[n][ix[:, n]]\n",
    "\n",
    "    return ix\n",
    "\n",
    "print(cartesian(([1, 2, 3], [4, 5], [6, 7])))"
   ]
  },
  {
   "cell_type": "code",
   "execution_count": 35,
   "metadata": {},
   "outputs": [
    {
     "name": "stdout",
     "output_type": "stream",
     "text": [
      "[[2 2 4]\n",
      " [0 2 2]\n",
      " [1 2 4]\n",
      " [5 4 0]\n",
      " [5 3 3]\n",
      " [4 2 4]\n",
      " [0 4 3]\n",
      " [0 0 0]]\n",
      "[[0 1]\n",
      " [1 0]]\n",
      "[[[[False False]\n",
      "   [False False]]\n",
      "\n",
      "  [[False False]\n",
      "   [False False]]\n",
      "\n",
      "  [[False False]\n",
      "   [False False]]]\n",
      "\n",
      "\n",
      " [[[ True False]\n",
      "   [False  True]]\n",
      "\n",
      "  [[False False]\n",
      "   [False False]]\n",
      "\n",
      "  [[False False]\n",
      "   [False False]]]\n",
      "\n",
      "\n",
      " [[[False  True]\n",
      "   [ True False]]\n",
      "\n",
      "  [[False False]\n",
      "   [False False]]\n",
      "\n",
      "  [[False False]\n",
      "   [False False]]]\n",
      "\n",
      "\n",
      " [[[False False]\n",
      "   [False False]]\n",
      "\n",
      "  [[False False]\n",
      "   [False False]]\n",
      "\n",
      "  [[ True False]\n",
      "   [False  True]]]\n",
      "\n",
      "\n",
      " [[[False False]\n",
      "   [False False]]\n",
      "\n",
      "  [[False False]\n",
      "   [False False]]\n",
      "\n",
      "  [[False False]\n",
      "   [False False]]]\n",
      "\n",
      "\n",
      " [[[False False]\n",
      "   [False False]]\n",
      "\n",
      "  [[False False]\n",
      "   [False False]]\n",
      "\n",
      "  [[False False]\n",
      "   [False False]]]\n",
      "\n",
      "\n",
      " [[[ True False]\n",
      "   [False  True]]\n",
      "\n",
      "  [[False False]\n",
      "   [False False]]\n",
      "\n",
      "  [[False False]\n",
      "   [False False]]]\n",
      "\n",
      "\n",
      " [[[ True False]\n",
      "   [False  True]]\n",
      "\n",
      "  [[ True False]\n",
      "   [False  True]]\n",
      "\n",
      "  [[ True False]\n",
      "   [False  True]]]]\n",
      "[1 2 3 6 7]\n"
     ]
    }
   ],
   "source": [
    "#Даны 2 массива A (8x3) и B (2x2). Найти строки в A, которые содержат элементы из каждой строки в B, независимо от порядка элементов в B\n",
    "A = np.random.randint(0,6,(8,3))\n",
    "B = np.random.randint(0,2,(2,2))\n",
    "\n",
    "C = (A[..., np.newaxis, np.newaxis] == B)\n",
    "rows = (C.sum(axis=(1,2,3)) >= B.shape[1]).nonzero()[0]\n",
    "print(A)\n",
    "print(B)\n",
    "print(C)\n",
    "print(rows)"
   ]
  },
  {
   "cell_type": "code",
   "execution_count": 36,
   "metadata": {},
   "outputs": [
    {
     "name": "stdout",
     "output_type": "stream",
     "text": [
      "[[1 0 1]\n",
      " [1 0 0]\n",
      " [1 1 0]\n",
      " [0 0 0]\n",
      " [1 0 1]\n",
      " [1 0 0]\n",
      " [1 0 0]\n",
      " [0 1 1]\n",
      " [0 1 0]\n",
      " [1 0 0]]\n",
      "[False False False  True False False False False False False]\n",
      "[[1 0 1]\n",
      " [1 0 0]\n",
      " [1 1 0]\n",
      " [1 0 1]\n",
      " [1 0 0]\n",
      " [1 0 0]\n",
      " [0 1 1]\n",
      " [0 1 0]\n",
      " [1 0 0]]\n"
     ]
    }
   ],
   "source": [
    "#Дана 10x3 матрица, найти строки из неравных значений (например [2,2,3])\n",
    "a=np.random.randint(0,2,size=(10,3))\n",
    "b = np.logical_and.reduce(a[:,1:] == a[:,:-1], axis=1)\n",
    "c = a[~b]\n",
    "print(a)\n",
    "print(b)\n",
    "print(c)"
   ]
  },
  {
   "cell_type": "code",
   "execution_count": 30,
   "metadata": {},
   "outputs": [
    {
     "name": "stdout",
     "output_type": "stream",
     "text": [
      "[  0   1   2   3  15  16  32  64 128]\n",
      "[[0 0 0 0 0 0 0 0]\n",
      " [0 0 0 0 0 0 0 1]\n",
      " [0 0 0 0 0 0 1 0]\n",
      " [0 0 0 0 0 0 1 1]\n",
      " [0 0 0 0 1 1 1 1]\n",
      " [0 0 0 1 0 0 0 0]\n",
      " [0 0 1 0 0 0 0 0]\n",
      " [0 1 0 0 0 0 0 0]\n",
      " [1 0 0 0 0 0 0 0]]\n"
     ]
    }
   ],
   "source": [
    "#Преобразовать вектор чисел в матрицу бинарных представлений\n",
    "a = np.array([0, 1, 2, 3, 15, 16, 32, 64, 128], dtype=np.uint8)\n",
    "print(a)\n",
    "print(np.unpackbits(a[:, np.newaxis], axis=1))"
   ]
  },
  {
   "cell_type": "code",
   "execution_count": 38,
   "metadata": {},
   "outputs": [
    {
     "name": "stdout",
     "output_type": "stream",
     "text": [
      "[[1 1 0]\n",
      " [0 1 0]\n",
      " [1 1 0]\n",
      " [1 0 0]\n",
      " [1 1 1]\n",
      " [1 1 1]]\n",
      "[[b'\\x01\\x00\\x00\\x00\\x01\\x00\\x00\\x00\\x00\\x00\\x00\\x00']\n",
      " [b'\\x00\\x00\\x00\\x00\\x01\\x00\\x00\\x00\\x00\\x00\\x00\\x00']\n",
      " [b'\\x01\\x00\\x00\\x00\\x01\\x00\\x00\\x00\\x00\\x00\\x00\\x00']\n",
      " [b'\\x01\\x00\\x00\\x00\\x00\\x00\\x00\\x00\\x00\\x00\\x00\\x00']\n",
      " [b'\\x01\\x00\\x00\\x00\\x01\\x00\\x00\\x00\\x01\\x00\\x00\\x00']\n",
      " [b'\\x01\\x00\\x00\\x00\\x01\\x00\\x00\\x00\\x01\\x00\\x00\\x00']]\n",
      "[b'\\x00\\x00\\x00\\x00\\x01\\x00\\x00\\x00\\x00\\x00\\x00\\x00'\n",
      " b'\\x01\\x00\\x00\\x00\\x00\\x00\\x00\\x00\\x00\\x00\\x00\\x00'\n",
      " b'\\x01\\x00\\x00\\x00\\x01\\x00\\x00\\x00\\x00\\x00\\x00\\x00'\n",
      " b'\\x01\\x00\\x00\\x00\\x01\\x00\\x00\\x00\\x01\\x00\\x00\\x00']\n",
      "[1 3 0 4]\n",
      "[[0 1 0]\n",
      " [1 0 0]\n",
      " [1 1 0]\n",
      " [1 1 1]]\n"
     ]
    }
   ],
   "source": [
    "#Дан двумерный массив. Найти все различные строки\n",
    "a = np.random.randint(0, 2, (6,3))\n",
    "T = np.ascontiguousarray(a).view(np.dtype((np.void, a.dtype.itemsize * a.shape[1])))\n",
    "_, idx = np.unique(T, return_index=True)\n",
    "ua = a[idx]\n",
    "print(a)\n",
    "print(T)\n",
    "print(_)\n",
    "print(idx)\n",
    "print(ua)"
   ]
  },
  {
   "cell_type": "code",
   "execution_count": 18,
   "metadata": {},
   "outputs": [
    {
     "data": {
      "text/plain": [
       "array([[ 10,  20,  30,  40,  55],\n",
       "       [ 20,  40,  60,  80, 110],\n",
       "       [ 30,  60,  90, 120, 165],\n",
       "       [ 40,  80, 120, 160, 220],\n",
       "       [ 50, 100, 150, 200, 275]])"
      ]
     },
     "execution_count": 18,
     "metadata": {},
     "output_type": "execute_result"
    }
   ],
   "source": [
    "#Даны векторы A и B, написать einsum эквиваленты функций inner, outer, sum и mul\n",
    "A=np.array([1,2,3,4,5])\n",
    "B=np.array([10,20,30,40,55])\n",
    "np.einsum('i->', A)       # np.sum(A)\n",
    "np.einsum('i,i->i', A, B) # A * B\n",
    "np.einsum('i,i', A, B)    # np.inner(A, B)\n",
    "np.einsum('i,j', A, B)    # np.outer(A, B)"
   ]
  }
 ],
 "metadata": {
  "kernelspec": {
   "display_name": "Python 3",
   "language": "python",
   "name": "python3"
  },
  "language_info": {
   "codemirror_mode": {
    "name": "ipython",
    "version": 3
   },
   "file_extension": ".py",
   "mimetype": "text/x-python",
   "name": "python",
   "nbconvert_exporter": "python",
   "pygments_lexer": "ipython3",
   "version": "3.7.3"
  }
 },
 "nbformat": 4,
 "nbformat_minor": 2
}
