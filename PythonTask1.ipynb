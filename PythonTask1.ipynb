{
 "cells": [
  {
   "cell_type": "code",
   "execution_count": null,
   "metadata": {},
   "outputs": [],
   "source": [
    "# Напишите программу, которая приветствует пользователя, выводя слово Hello, введенное имя и знаки препинания\n",
    "name = str(input())\n",
    "print(\"Hello,\",name,\"!\")"
   ]
  },
  {
   "cell_type": "code",
   "execution_count": 8,
   "metadata": {},
   "outputs": [
    {
     "name": "stdout",
     "output_type": "stream",
     "text": [
      "3\n",
      "3\n",
      "3\n",
      "3\n"
     ]
    }
   ],
   "source": [
    "# Даны три целых числа. Определите, сколько среди них совпадающих. Программа должна вывести одно из чисел: 3 (если все совпадают), 2 (если два совпадает) или 0 (если все числа различны).\n",
    "number1=int(input())\n",
    "number2=int(input())\n",
    "number3=int(input())\n",
    "if number1==number2==number3:\n",
    "    print(\"3\")\n",
    "elif (number1==number2 and number2!=number3) or (number1!=number2 and number2==number3) or (number1==number3 and number3!=number2):\n",
    "    print(\"2\")\n",
    "else:\n",
    "    print(\"0\")"
   ]
  },
  {
   "cell_type": "code",
   "execution_count": 13,
   "metadata": {},
   "outputs": [
    {
     "name": "stdout",
     "output_type": "stream",
     "text": [
      "347\n",
      "14\n"
     ]
    }
   ],
   "source": [
    "#Дано трехзначное число. Найдите сумму его цифр\n",
    "number=int(input())\n",
    "sum=number // 100 + number // 10 % 10 + number % 10\n",
    "print(sum)"
   ]
  },
  {
   "cell_type": "code",
   "execution_count": 19,
   "metadata": {},
   "outputs": [
    {
     "name": "stdout",
     "output_type": "stream",
     "text": [
      "5\n",
      "120\n"
     ]
    }
   ],
   "source": [
    "#По данному натуральному n вычислите значение n!\n",
    "n=int(input())\n",
    "faktorial=1\n",
    "for i in range(1,n+1,1):\n",
    "    faktorial=faktorial*i\n",
    "    n+=1\n",
    "print(faktorial)"
   ]
  },
  {
   "cell_type": "code",
   "execution_count": 12,
   "metadata": {},
   "outputs": [
    {
     "name": "stdout",
     "output_type": "stream",
     "text": [
      "In the hole in the ground there lived a hobbit\n",
      "In tobbit\n"
     ]
    }
   ],
   "source": [
    "#Дана строка, в которой буква h встречается минимум два раза. Удалите из этой строки первое и последнее вхождение буквы h, а также все символы, находящиеся между ними\n",
    "s=str(input())\n",
    "h1=s.find('h')\n",
    "h2=s.rfind('h')\n",
    "print(s[0:h1]+s[h2+1:len(s)])"
   ]
  }
 ],
 "metadata": {
  "kernelspec": {
   "display_name": "Python 3",
   "language": "python",
   "name": "python3"
  },
  "language_info": {
   "codemirror_mode": {
    "name": "ipython",
    "version": 3
   },
   "file_extension": ".py",
   "mimetype": "text/x-python",
   "name": "python",
   "nbconvert_exporter": "python",
   "pygments_lexer": "ipython3",
   "version": "3.7.3"
  }
 },
 "nbformat": 4,
 "nbformat_minor": 2
}
