{
 "cells": [
  {
   "cell_type": "code",
   "execution_count": 1,
   "metadata": {},
   "outputs": [],
   "source": [
    "#Импортировать модули sys numpy pandas\n",
    "import sys\n",
    "import numpy as np\n",
    "import pandas as pd"
   ]
  },
  {
   "cell_type": "markdown",
   "metadata": {},
   "source": [
    "#Объект Series библиотеки Pandas — одномерный массив индексированных данных.\n",
    "#DataFrame — аналог двумерного массива с гибкими индексами строк и гибкими именами столбцов. "
   ]
  },
  {
   "cell_type": "code",
   "execution_count": 2,
   "metadata": {},
   "outputs": [
    {
     "name": "stdout",
     "output_type": "stream",
     "text": [
      "0    0.25\n",
      "1    0.50\n",
      "2    0.75\n",
      "3    1.00\n",
      "dtype: float64\n",
      "[0.25 0.5  0.75 1.  ]\n",
      "a    0.25\n",
      "b    0.50\n",
      "c    0.75\n",
      "d    1.00\n",
      "dtype: float64\n",
      "shopping_list:\n",
      "milk      1\n",
      "bread     1\n",
      "meet      5\n",
      "cheese    3\n",
      "dtype: int64\n"
     ]
    }
   ],
   "source": [
    "#Создать объект pandas Series из листа, объекта NumPy, и словаря\n",
    "data = pd.Series([0.25, 0.5, 0.75, 1.0])\n",
    "print(data)\n",
    "print(data.values)\n",
    "\n",
    "data = pd.Series([0.25, 0.5, 0.75, 1.0],\n",
    "                 index=['a', 'b', 'c', 'd'])\n",
    "print(data)\n",
    "\n",
    "dict_1 = {'milk': 1,'bread': 1,'meet': 5,'cheese': 3}\n",
    "number = pd.Series(dict_1)\n",
    "print('shopping_list:')\n",
    "print(number)\n"
   ]
  },
  {
   "cell_type": "code",
   "execution_count": 3,
   "metadata": {},
   "outputs": [
    {
     "name": "stdout",
     "output_type": "stream",
     "text": [
      "        0\n",
      "milk    1\n",
      "bread   1\n",
      "meet    5\n",
      "cheese  3\n"
     ]
    }
   ],
   "source": [
    "#Преобразовать объект Seris в DataFrame\n",
    "s = number.to_frame()\n",
    " \n",
    "print(s)"
   ]
  },
  {
   "cell_type": "code",
   "execution_count": 4,
   "metadata": {},
   "outputs": [
    {
     "name": "stdout",
     "output_type": "stream",
     "text": [
      "        number  price\n",
      "milk         1     56\n",
      "bread        1     20\n",
      "meet         5    300\n",
      "cheese       3    150\n"
     ]
    }
   ],
   "source": [
    "dict_2 = {'milk': 56,'bread': 20,'meet': 300,'cheese': 150}\n",
    "price = pd.Series(dict_2)\n",
    "# Создаем DataFrame\n",
    "shopping_list = pd.DataFrame({'number': number, 'price': price})\n",
    "print(shopping_list)"
   ]
  },
  {
   "cell_type": "code",
   "execution_count": null,
   "metadata": {},
   "outputs": [],
   "source": [
    "#Присвоить имя индексу объекта Series\n"
   ]
  },
  {
   "cell_type": "code",
   "execution_count": 6,
   "metadata": {},
   "outputs": [
    {
     "name": "stdout",
     "output_type": "stream",
     "text": [
      "0    1\n",
      "1    2\n",
      "2    3\n",
      "dtype: int64\n",
      "[1 2 3]\n"
     ]
    }
   ],
   "source": [
    "#Получить элементы объекта Series A, которых нет в объекте Series B\n",
    "s1 = pd.Series([1, 2, 3, 4, 5])\n",
    "s2 = pd.Series([4, 5, 6, 7, 8])\n",
    " \n",
    "# возвращает вместе с индексами\n",
    "ans = s1[~s1.isin(s2)]\n",
    " \n",
    "# возвразает значения\n",
    "ans2 = np.setdiff1d(s1, s2, assume_unique=False)\n",
    "print(ans)\n",
    "print(ans2)"
   ]
  },
  {
   "cell_type": "code",
   "execution_count": 7,
   "metadata": {},
   "outputs": [
    {
     "name": "stdout",
     "output_type": "stream",
     "text": [
      "0    1\n",
      "1    2\n",
      "2    3\n",
      "5    6\n",
      "6    7\n",
      "7    8\n",
      "dtype: int64\n"
     ]
    }
   ],
   "source": [
    "#Получить не пересекающиеся  и пересекающиеся элементы в двух объектах Series\n",
    "# получаем объединенный Series без повтороений\n",
    "s_union = pd.Series(np.union1d(s1, s2))\n",
    "# получаем пересекающиеся данные\n",
    "s_intersect = pd.Series(np.intersect1d(s1, s2))\n",
    "# отбираем все данные, кроме пересекающихся\n",
    "ans = s_union[~s_union.isin(s_intersect)]\n",
    " \n",
    "# возвразает значения\n",
    "ans2 = np.setxor1d(s1, s2, assume_unique=False)\n",
    " \n",
    "print(ans)"
   ]
  },
  {
   "cell_type": "code",
   "execution_count": null,
   "metadata": {},
   "outputs": [],
   "source": []
  }
 ],
 "metadata": {
  "kernelspec": {
   "display_name": "Python 3",
   "language": "python",
   "name": "python3"
  },
  "language_info": {
   "codemirror_mode": {
    "name": "ipython",
    "version": 3
   },
   "file_extension": ".py",
   "mimetype": "text/x-python",
   "name": "python",
   "nbconvert_exporter": "python",
   "pygments_lexer": "ipython3",
   "version": "3.7.3"
  }
 },
 "nbformat": 4,
 "nbformat_minor": 2
}
