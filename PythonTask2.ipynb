{
 "cells": [
  {
   "cell_type": "code",
   "execution_count": null,
   "metadata": {},
   "outputs": [],
   "source": [
    "#Последовательность состоит из натуральных чисел и завершается числом 0. Определите значение наибольшего элемента последовательности.\n",
    "n= int(input())\n",
    "l=[]\n",
    "while n>0:\n",
    "    l.append(n)\n",
    "    i+=1\n",
    "    n=int(input())\n",
    "#print(l)\n",
    "print(max(l))\n"
   ]
  },
  {
   "cell_type": "code",
   "execution_count": 6,
   "metadata": {},
   "outputs": [
    {
     "name": "stdout",
     "output_type": "stream",
     "text": [
      "2 8 9 6 3 5 3\n",
      "3\n",
      "['2', '8', '9', '6', '3', '5', '3']\n",
      "['2', '8', '6', '3', '5', '3', '9']\n",
      "['2', '8', '6', '3', '5', '3']\n"
     ]
    }
   ],
   "source": [
    "#Дан список из чисел и индекс элемента в списке k. Удалите из списка элемент с индексом k, сдвинув влево все элементы, стоящие правее элемента с индексом k.\n",
    "#Программа получает на вход список, затем число k. Программа сдвигает все элементы, а после этого удаляет последний элемент списка при помощи метода pop() без параметров.\n",
    "#Программа должна осуществлять сдвиг непосредственно в списке, а не делать это при выводе элементов. Также нельзя использовать дополнительный список. Также не следует использовать метод pop(k) с параметром.\n",
    "a = input().split()\n",
    "k=int(input())\n",
    "print(a)\n",
    "#a=a[:k-1]+a[k:]\n",
    "#print(a)\n",
    "for i in range(k-1,len(a)-1):\n",
    "    a[i],a[i+1]=a[i+1],a[i]\n",
    "print(a)\n",
    "a.pop()\n",
    "print(a)\n",
    "\n"
   ]
  },
  {
   "cell_type": "code",
   "execution_count": 35,
   "metadata": {},
   "outputs": [
    {
     "name": "stdout",
     "output_type": "stream",
     "text": [
      "9\n",
      "1\n",
      "9\n"
     ]
    }
   ],
   "source": [
    "#Дано действительное положительное число a и целоe число n.\n",
    "#Вычислите a^n. Решение оформите в виде функции power(a, n).\n",
    "a=int(input())\n",
    "n=int(input())\n",
    "def power(a, n):\n",
    "    if n == 0:\n",
    "        return 1\n",
    "    else:\n",
    "        return a * power(a, n - 1)\n",
    "print(power(a,n))"
   ]
  },
  {
   "cell_type": "code",
   "execution_count": null,
   "metadata": {},
   "outputs": [],
   "source": [
    "#Дано нечетное число n. Создайте двумерный массив из n×n элементов, заполнив его символами \".\" (каждый элемент массива является строкой из одного символа). Затем заполните символами \"*\" среднюю строку массива, средний столбец массива, главную диагональ и побочную диагональ. В результате единицы в массиве должны образовывать изображение звездочки. Выведите полученный массив на экран, разделяя элементы массива пробелами.\n",
    "n=int(input())\n",
    "a = [[\".\"] * n for i in range(n)]\n",
    "for i in range(n):\n",
    "    a[i][i] = '*'\n",
    "    a[n//2][i]=\"*\"\n",
    "    a[i][n//2]=\"*\"\n",
    "#i+j=n+1 побочная диагональ\n",
    "    a[i][n-1-i]=\"*\"\n",
    "for row in a:\n",
    "    print(' '.join(row))"
   ]
  },
  {
   "cell_type": "code",
   "execution_count": 1,
   "metadata": {},
   "outputs": [
    {
     "name": "stdout",
     "output_type": "stream",
     "text": [
      "10\n",
      "8\n",
      "8\n",
      "WIN\n"
     ]
    }
   ],
   "source": [
    "#Август и Беатриса играют в игру. Август загадал натуральное число от 1 до n. Беатриса пытается угадать это число, для этого она называет некоторые множества натуральных чисел. Август отвечает Беатрисе YES, если среди названных ей чисел есть задуманное или NO в противном случае. После нескольких заданныъх вопросов Беатриса запуталась в том, какие вопросы она задавала и какие ответы получила и просит вас помочь ей определить, какие числа мог задумать Август.\n",
    "#В первой строке задано n - максимальное число, которое мог загадать Август. Далее каждая строка содержит вопрос Беатрисы (множество чисел, разделенных пробелом) и ответ Августа на этот вопрос.\n",
    "#Вы должны вывести через пробел, в порядке возрастания, все числа, которые мог задумать Август.\n",
    "from random import randrange\n",
    "\n",
    "n=int(input())\n",
    "a=randrange(1,n)\n",
    "all_variation = set(range(1, n + 1))\n",
    "print(a)\n",
    "while True:\n",
    "    beatris = input()\n",
    "    if beatris == 'HELP':\n",
    "        print (all_variation)\n",
    "    beatris = {int(x) for x in beatris.split()}\n",
    "    if a in beatris and len(beatris)==1:\n",
    "        print(\"WIN\")\n",
    "        break\n",
    "    elif a in beatris and len(beatris)>1:\n",
    "        print('YES')\n",
    "    else:\n",
    "        all_variation-=beatris\n",
    "        print(\"NO\")\n",
    "    "
   ]
  },
  {
   "cell_type": "code",
   "execution_count": 7,
   "metadata": {},
   "outputs": [
    {
     "name": "stdout",
     "output_type": "stream",
     "text": [
      "2\n",
      "taia ikm ikm ikm taia taia taia\n",
      "ikm ikm ikm\n",
      "ikm\n"
     ]
    }
   ],
   "source": [
    "#Дан текст: в первой строке задано число строк, далее идут сами строки. Выведите слово, которое в этом тексте встречается чаще всего. Если таких слов несколько, выведите то, которое меньше в лексикографическом порядке.\n",
    "dictionary={}\n",
    "lis=[]\n",
    "n=int(input())\n",
    "for i in range(n):\n",
    "    s = input().split()\n",
    "    for j in s:\n",
    "        dictionary[j]=dictionary.get(j,0)+1\n",
    "for i in dictionary.keys():\n",
    "    if dictionary[i] == max(dictionary.values()):\n",
    "        lis.append(i)\n",
    "lis.sort()\n",
    "print(lis[0])"
   ]
  }
 ],
 "metadata": {
  "kernelspec": {
   "display_name": "Python 3",
   "language": "python",
   "name": "python3"
  },
  "language_info": {
   "codemirror_mode": {
    "name": "ipython",
    "version": 3
   },
   "file_extension": ".py",
   "mimetype": "text/x-python",
   "name": "python",
   "nbconvert_exporter": "python",
   "pygments_lexer": "ipython3",
   "version": "3.7.3"
  }
 },
 "nbformat": 4,
 "nbformat_minor": 2
}
