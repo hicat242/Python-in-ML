{
 "cells": [
  {
   "cell_type": "code",
   "execution_count": 10,
   "metadata": {},
   "outputs": [],
   "source": [
    "import numpy as np"
   ]
  },
  {
   "cell_type": "code",
   "execution_count": 17,
   "metadata": {},
   "outputs": [
    {
     "name": "stdout",
     "output_type": "stream",
     "text": [
      "[[ 5470 12200]\n",
      " [ 8445 12002]\n",
      " [ 2701  9774]\n",
      " [ 7921  8978]\n",
      " [ 8479 17510]]\n"
     ]
    }
   ],
   "source": [
    "#Перемножить матрицы 5x3 и 3x2\n",
    "a=np.random.randint(0,100,size=(5,3))\n",
    "b=np.random.randint(0,100,size=(3,2))\n",
    "print(np.dot(a,b))"
   ]
  },
  {
   "cell_type": "code",
   "execution_count": 34,
   "metadata": {},
   "outputs": [
    {
     "name": "stdout",
     "output_type": "stream",
     "text": [
      "[ 0  1  2  3 -4 -5 -6 -7 -8  9]\n"
     ]
    }
   ],
   "source": [
    "#Дан массив, поменять знак у элементов, значения которых между 3 и 8\n",
    "a= np.arange(10)\n",
    "a[(3 < a) & (a <=8)] *= -1\n",
    "print(a)"
   ]
  },
  {
   "cell_type": "code",
   "execution_count": 40,
   "metadata": {},
   "outputs": [
    {
     "data": {
      "text/plain": [
       "array([[0, 1, 2, 3, 4],\n",
       "       [0, 1, 2, 3, 4],\n",
       "       [0, 1, 2, 3, 4],\n",
       "       [0, 1, 2, 3, 4],\n",
       "       [0, 1, 2, 3, 4]])"
      ]
     },
     "execution_count": 40,
     "metadata": {},
     "output_type": "execute_result"
    }
   ],
   "source": [
    "#Создать 5x5 матрицу со значениями в строках от 0 до 4\n",
    "np.tile(np.array([[0,1,2,3,4]]),(5,1))"
   ]
  },
  {
   "cell_type": "code",
   "execution_count": 7,
   "metadata": {},
   "outputs": [
    {
     "name": "stdout",
     "output_type": "stream",
     "text": [
      "[0. 1. 2. 3. 4. 5. 6. 7. 8. 9.]\n"
     ]
    }
   ],
   "source": [
    "#Есть генератор, сделать с его помощью массив\n",
    "def generate():\n",
    "    for x in np.arange(10):\n",
    "        yield x\n",
    "a = np.fromiter(generate(),dtype=float,count=-1)\n",
    "print(a)"
   ]
  },
  {
   "cell_type": "code",
   "execution_count": 8,
   "metadata": {},
   "outputs": [
    {
     "data": {
      "text/plain": [
       "array([0.09090909, 0.18181818, 0.27272727, 0.36363636, 0.45454545,\n",
       "       0.54545455, 0.63636364, 0.72727273, 0.81818182, 0.90909091])"
      ]
     },
     "execution_count": 8,
     "metadata": {},
     "output_type": "execute_result"
    }
   ],
   "source": [
    "#Создать вектор размера 10 со значениями от 0 до 1, не включая ни то, ни друое\n",
    "np.linspace(0,1,12)[1:-1]"
   ]
  },
  {
   "cell_type": "code",
   "execution_count": 15,
   "metadata": {},
   "outputs": [
    {
     "data": {
      "text/plain": [
       "array([0.07981416, 0.19880561, 0.31581927, 0.4210855 , 0.55465516,\n",
       "       0.56329348, 0.63739302, 0.7963244 , 0.81051081, 0.88882363])"
      ]
     },
     "execution_count": 15,
     "metadata": {},
     "output_type": "execute_result"
    }
   ],
   "source": [
    "#Отсортировать вектор\n",
    "np.sort(np.random.random(10))"
   ]
  },
  {
   "cell_type": "code",
   "execution_count": 20,
   "metadata": {},
   "outputs": [
    {
     "name": "stdout",
     "output_type": "stream",
     "text": [
      "[1 0 0 1 1]\n",
      "[1 0 0 1 0]\n"
     ]
    },
    {
     "data": {
      "text/plain": [
       "False"
      ]
     },
     "execution_count": 20,
     "metadata": {},
     "output_type": "execute_result"
    }
   ],
   "source": [
    "#Проверить, одинаковы ли 2 numpy массива\n",
    "a = np.random.randint(0,2,5)\n",
    "b = np.random.randint(0,2,5)\n",
    "print(str(a)+'\\n'+str(b))\n",
    "np.allclose(a,b)"
   ]
  },
  {
   "cell_type": "code",
   "execution_count": 22,
   "metadata": {},
   "outputs": [
    {
     "ename": "ValueError",
     "evalue": "assignment destination is read-only",
     "output_type": "error",
     "traceback": [
      "\u001b[1;31m---------------------------------------------------------------------------\u001b[0m",
      "\u001b[1;31mValueError\u001b[0m                                Traceback (most recent call last)",
      "\u001b[1;32m<ipython-input-22-71f830c1f2c9>\u001b[0m in \u001b[0;36m<module>\u001b[1;34m\u001b[0m\n\u001b[0;32m      2\u001b[0m \u001b[0ma\u001b[0m \u001b[1;33m=\u001b[0m \u001b[0mnp\u001b[0m\u001b[1;33m.\u001b[0m\u001b[0mones\u001b[0m\u001b[1;33m(\u001b[0m\u001b[1;36m10\u001b[0m\u001b[1;33m)\u001b[0m\u001b[1;33m\u001b[0m\u001b[1;33m\u001b[0m\u001b[0m\n\u001b[0;32m      3\u001b[0m \u001b[0ma\u001b[0m\u001b[1;33m.\u001b[0m\u001b[0mflags\u001b[0m\u001b[1;33m.\u001b[0m\u001b[0mwriteable\u001b[0m \u001b[1;33m=\u001b[0m \u001b[1;32mFalse\u001b[0m\u001b[1;33m\u001b[0m\u001b[1;33m\u001b[0m\u001b[0m\n\u001b[1;32m----> 4\u001b[1;33m \u001b[0ma\u001b[0m\u001b[1;33m[\u001b[0m\u001b[1;36m0\u001b[0m\u001b[1;33m]\u001b[0m \u001b[1;33m=\u001b[0m \u001b[1;36m2\u001b[0m\u001b[1;33m\u001b[0m\u001b[1;33m\u001b[0m\u001b[0m\n\u001b[0m",
      "\u001b[1;31mValueError\u001b[0m: assignment destination is read-only"
     ]
    }
   ],
   "source": [
    "#Сделать массив неизменяемым\n",
    "a = np.ones(10)\n",
    "a.flags.writeable = False\n",
    "a[0] = 2"
   ]
  },
  {
   "cell_type": "code",
   "execution_count": 36,
   "metadata": {},
   "outputs": [
    {
     "name": "stdout",
     "output_type": "stream",
     "text": [
      "[69.85699679 93.0376268 ]\n",
      "[0.41241044 0.44441921]\n"
     ]
    }
   ],
   "source": [
    "#Дан массив 10x2 (точки в декартовой системе координат), преобразовать в полярную\n",
    "a=np.random.randint(0,100,size=(2, 10))\n",
    "x,y= a[:,0], a[:,1]\n",
    "r = np.hypot(x,y)  #полярный радиус=sqrt(x^2+y^2)\n",
    "t = np.arctan2(y,x) #tg(угол)=y/x\n",
    "print(r)\n",
    "print(t)"
   ]
  },
  {
   "cell_type": "code",
   "execution_count": 34,
   "metadata": {},
   "outputs": [
    {
     "name": "stdout",
     "output_type": "stream",
     "text": [
      "[[ 8 71  6 24 59 82 97 81 86 41]]\n",
      "6\n",
      "[[ 8 71  6 24 59 82  0 81 86 41]]\n"
     ]
    }
   ],
   "source": [
    "#Заменить максимальный элемент на ноль\n",
    "a=np.random.randint(0,100,size=(1, 10))\n",
    "print(a)\n",
    "print(a.argmax())\n",
    "a[0][a.argmax()]=0\n",
    "print(a)"
   ]
  },
  {
   "cell_type": "code",
   "execution_count": 42,
   "metadata": {},
   "outputs": [
    {
     "name": "stdout",
     "output_type": "stream",
     "text": [
      "[[(0.        , 0.        ) (0.11111111, 0.        )\n",
      "  (0.22222222, 0.        ) (0.33333333, 0.        )\n",
      "  (0.44444444, 0.        ) (0.55555556, 0.        )\n",
      "  (0.66666667, 0.        ) (0.77777778, 0.        )\n",
      "  (0.88888889, 0.        ) (1.        , 0.        )]\n",
      " [(0.        , 0.11111111) (0.11111111, 0.11111111)\n",
      "  (0.22222222, 0.11111111) (0.33333333, 0.11111111)\n",
      "  (0.44444444, 0.11111111) (0.55555556, 0.11111111)\n",
      "  (0.66666667, 0.11111111) (0.77777778, 0.11111111)\n",
      "  (0.88888889, 0.11111111) (1.        , 0.11111111)]\n",
      " [(0.        , 0.22222222) (0.11111111, 0.22222222)\n",
      "  (0.22222222, 0.22222222) (0.33333333, 0.22222222)\n",
      "  (0.44444444, 0.22222222) (0.55555556, 0.22222222)\n",
      "  (0.66666667, 0.22222222) (0.77777778, 0.22222222)\n",
      "  (0.88888889, 0.22222222) (1.        , 0.22222222)]\n",
      " [(0.        , 0.33333333) (0.11111111, 0.33333333)\n",
      "  (0.22222222, 0.33333333) (0.33333333, 0.33333333)\n",
      "  (0.44444444, 0.33333333) (0.55555556, 0.33333333)\n",
      "  (0.66666667, 0.33333333) (0.77777778, 0.33333333)\n",
      "  (0.88888889, 0.33333333) (1.        , 0.33333333)]\n",
      " [(0.        , 0.44444444) (0.11111111, 0.44444444)\n",
      "  (0.22222222, 0.44444444) (0.33333333, 0.44444444)\n",
      "  (0.44444444, 0.44444444) (0.55555556, 0.44444444)\n",
      "  (0.66666667, 0.44444444) (0.77777778, 0.44444444)\n",
      "  (0.88888889, 0.44444444) (1.        , 0.44444444)]\n",
      " [(0.        , 0.55555556) (0.11111111, 0.55555556)\n",
      "  (0.22222222, 0.55555556) (0.33333333, 0.55555556)\n",
      "  (0.44444444, 0.55555556) (0.55555556, 0.55555556)\n",
      "  (0.66666667, 0.55555556) (0.77777778, 0.55555556)\n",
      "  (0.88888889, 0.55555556) (1.        , 0.55555556)]\n",
      " [(0.        , 0.66666667) (0.11111111, 0.66666667)\n",
      "  (0.22222222, 0.66666667) (0.33333333, 0.66666667)\n",
      "  (0.44444444, 0.66666667) (0.55555556, 0.66666667)\n",
      "  (0.66666667, 0.66666667) (0.77777778, 0.66666667)\n",
      "  (0.88888889, 0.66666667) (1.        , 0.66666667)]\n",
      " [(0.        , 0.77777778) (0.11111111, 0.77777778)\n",
      "  (0.22222222, 0.77777778) (0.33333333, 0.77777778)\n",
      "  (0.44444444, 0.77777778) (0.55555556, 0.77777778)\n",
      "  (0.66666667, 0.77777778) (0.77777778, 0.77777778)\n",
      "  (0.88888889, 0.77777778) (1.        , 0.77777778)]\n",
      " [(0.        , 0.88888889) (0.11111111, 0.88888889)\n",
      "  (0.22222222, 0.88888889) (0.33333333, 0.88888889)\n",
      "  (0.44444444, 0.88888889) (0.55555556, 0.88888889)\n",
      "  (0.66666667, 0.88888889) (0.77777778, 0.88888889)\n",
      "  (0.88888889, 0.88888889) (1.        , 0.88888889)]\n",
      " [(0.        , 1.        ) (0.11111111, 1.        )\n",
      "  (0.22222222, 1.        ) (0.33333333, 1.        )\n",
      "  (0.44444444, 1.        ) (0.55555556, 1.        )\n",
      "  (0.66666667, 1.        ) (0.77777778, 1.        )\n",
      "  (0.88888889, 1.        ) (1.        , 1.        )]]\n"
     ]
    }
   ],
   "source": [
    "#Создать структурированный массив с координатами x, y на сетке в квадрате [0,1]x[0,1]\n",
    "Z = np.zeros((10,10), [('x',float),('y',float)])\n",
    "Z['x'], Z['y'] = np.meshgrid(np.linspace(0,1,10),np.linspace(0,1,10),sparse=True)\n",
    "print(Z)"
   ]
  },
  {
   "cell_type": "code",
   "execution_count": 47,
   "metadata": {},
   "outputs": [
    {
     "name": "stdout",
     "output_type": "stream",
     "text": [
      "3638.1636371179666\n"
     ]
    }
   ],
   "source": [
    "#Из двух массивов сделать матрицу Коши C (Cij = 1/(xi - yj))\n",
    "x = np.arange(8)\n",
    "y = x + 0.5\n",
    "c = 1.0 / np.subtract.outer(x, y)\n",
    "print(np.linalg.det(c)) #определитель"
   ]
  },
  {
   "cell_type": "code",
   "execution_count": null,
   "metadata": {},
   "outputs": [],
   "source": [
    "#Найти минимальное и максимальное значение, принимаемое каждым числовым типом numpy\n",
    "for dtype in [np.int8, np.int32, np.int64]:\n",
    "    print(np.iinfo(dtype).min)\n",
    "    print(np.iinfo(dtype).max)\n",
    "for dtype in [np.float32, np.float64]:\n",
    "    print(np.finfo(dtype).min)\n",
    "    print(np.finfo(dtype).max)\n",
    "    print(np.finfo(dtype).eps)"
   ]
  },
  {
   "cell_type": "code",
   "execution_count": 50,
   "metadata": {},
   "outputs": [
    {
     "data": {
      "text/plain": [
       "array([[91, 72, 72,  1, 36, 99, 31, 94, 37, 58],\n",
       "       [ 2,  4, 74, 11, 36, 53, 24, 41, 88, 48]])"
      ]
     },
     "execution_count": 50,
     "metadata": {},
     "output_type": "execute_result"
    }
   ],
   "source": [
    "#Напечатать все значения в массиве\n",
    "np.random.randint(0,100,size=(2, 10))"
   ]
  },
  {
   "cell_type": "code",
   "execution_count": 52,
   "metadata": {},
   "outputs": [
    {
     "name": "stdout",
     "output_type": "stream",
     "text": [
      "[ 0  1  2  3  4  5  6  7  8  9 10 11 12 13 14 15 16 17 18 19 20 21 22 23\n",
      " 24 25 26 27 28 29 30 31 32 33 34 35 36 37 38 39 40 41 42 43 44 45 46 47\n",
      " 48 49 50 51 52 53 54 55 56 57 58 59 60 61 62 63 64 65 66 67 68 69 70 71\n",
      " 72 73 74 75 76 77 78 79 80 81 82 83 84 85 86 87 88 89 90 91 92 93 94 95\n",
      " 96 97 98 99]\n",
      "16.251389529935334\n",
      "16\n"
     ]
    }
   ],
   "source": [
    "#Найти ближайшее к заданному значению число в заданном массиве\n",
    "a= np.arange(100)\n",
    "b = np.random.uniform(0,100)\n",
    "print(str(a)+'\\n'+str(b))\n",
    "i = (np.abs(a-b)).argmin()\n",
    "print(a[i])"
   ]
  },
  {
   "cell_type": "code",
   "execution_count": 54,
   "metadata": {},
   "outputs": [
    {
     "data": {
      "text/plain": [
       "array([((0., 0.), (0., 0., 0.)), ((0., 0.), (0., 0., 0.)),\n",
       "       ((0., 0.), (0., 0., 0.)), ((0., 0.), (0., 0., 0.)),\n",
       "       ((0., 0.), (0., 0., 0.)), ((0., 0.), (0., 0., 0.)),\n",
       "       ((0., 0.), (0., 0., 0.)), ((0., 0.), (0., 0., 0.)),\n",
       "       ((0., 0.), (0., 0., 0.)), ((0., 0.), (0., 0., 0.))],\n",
       "      dtype=[('координата', [('x', '<f8'), ('y', '<f8')]), ('цвет', [('r', '<f8'), ('g', '<f8'), ('b', '<f8')])])"
      ]
     },
     "execution_count": 54,
     "metadata": {},
     "output_type": "execute_result"
    }
   ],
   "source": [
    "#Создать структурированный массив, представляющий координату (x,y) и цвет (r,g,b)\n",
    "np.zeros(10, [ ('координата', [ ('x', float),\n",
    "                                   ('y', float)]),\n",
    "                    ('цвет',    [ ('r', float),\n",
    "                                   ('g', float),\n",
    "                                   ('b', float)])])"
   ]
  },
  {
   "cell_type": "code",
   "execution_count": 55,
   "metadata": {},
   "outputs": [
    {
     "data": {
      "text/plain": [
       "array([[0.        , 0.1271877 , 0.74317947, 0.41475279, 0.73993252,\n",
       "        0.39228089, 0.323131  , 0.1065269 , 0.17088069, 0.85231416],\n",
       "       [0.1271877 , 0.        , 0.85448423, 0.47466506, 0.85377606,\n",
       "        0.43738869, 0.44370672, 0.09684567, 0.21401882, 0.8429811 ],\n",
       "       [0.74317947, 0.85448423, 0.        , 0.48960213, 0.03422015,\n",
       "        0.55195574, 0.60688258, 0.84575324, 0.84324745, 0.88824812],\n",
       "       [0.41475279, 0.47466506, 0.48960213, 0.        , 0.5049192 ,\n",
       "        0.06255574, 0.53137914, 0.51537867, 0.57741833, 0.5297098 ],\n",
       "       [0.73993252, 0.85377606, 0.03422015, 0.5049192 , 0.        ,\n",
       "        0.56687478, 0.5894857 , 0.84117595, 0.83400183, 0.91664961],\n",
       "       [0.39228089, 0.43738869, 0.55195574, 0.06255574, 0.56687478,\n",
       "        0.        , 0.54811996, 0.48764502, 0.56016922, 0.50511018],\n",
       "       [0.323131  , 0.44370672, 0.60688258, 0.53137914, 0.5894857 ,\n",
       "        0.54811996, 0.        , 0.37350674, 0.30246705, 1.0531693 ],\n",
       "       [0.1065269 , 0.09684567, 0.84575324, 0.51537867, 0.84117595,\n",
       "        0.48764502, 0.37350674, 0.        , 0.11726057, 0.92370346],\n",
       "       [0.17088069, 0.21401882, 0.84324745, 0.57741833, 0.83400183,\n",
       "        0.56016922, 0.30246705, 0.11726057, 0.        , 1.02183471],\n",
       "       [0.85231416, 0.8429811 , 0.88824812, 0.5297098 , 0.91664961,\n",
       "        0.50511018, 1.0531693 , 0.92370346, 1.02183471, 0.        ]])"
      ]
     },
     "execution_count": 55,
     "metadata": {},
     "output_type": "execute_result"
    }
   ],
   "source": [
    "#Дан массив (100,2) координат, найти расстояние от каждой точки до каждой\n",
    "from scipy.spatial.distance import cdist\n",
    "a=np.random.random((10,2))\n",
    "cdist(a,a)"
   ]
  },
  {
   "cell_type": "code",
   "execution_count": 63,
   "metadata": {},
   "outputs": [
    {
     "data": {
      "text/plain": [
       "array([0, 1, 2, 3, 4, 5, 6, 7, 8, 9])"
      ]
     },
     "execution_count": 63,
     "metadata": {},
     "output_type": "execute_result"
    }
   ],
   "source": [
    "#Преобразовать массив из float в int\n",
    "np.arange(10, dtype=np.float32).astype(np.int32, copy=False)"
   ]
  },
  {
   "cell_type": "code",
   "execution_count": 79,
   "metadata": {},
   "outputs": [
    {
     "data": {
      "text/plain": [
       "array([[ 1.,  2.,  3.,  4.,  5.],\n",
       "       [ 6., nan, nan,  7.,  8.],\n",
       "       [nan, nan,  9., 10., 11.]])"
      ]
     },
     "execution_count": 79,
     "metadata": {},
     "output_type": "execute_result"
    }
   ],
   "source": [
    "#Дан файл:\n",
    "#1,2,3,4,5\n",
    "#6,,,7,8\n",
    "#,,9,10,11\n",
    "#Как прочитать его?\n",
    "\n",
    "np.genfromtxt(\"file.txt\", delimiter=\",\")"
   ]
  },
  {
   "cell_type": "code",
   "execution_count": 80,
   "metadata": {},
   "outputs": [
    {
     "name": "stdout",
     "output_type": "stream",
     "text": [
      "(0,) 0\n",
      "(1,) 1\n",
      "(2,) 2\n",
      "(3,) 3\n",
      "(4,) 4\n",
      "(5,) 5\n",
      "(6,) 6\n",
      "(7,) 7\n",
      "(8,) 8\n"
     ]
    }
   ],
   "source": [
    "#Каков эквивалент функции enumerate для numpy массивов?\n",
    "a = np.arange(9)\n",
    "for index, value in np.ndenumerate(a):\n",
    "    print(index, value)"
   ]
  },
  {
   "cell_type": "code",
   "execution_count": 83,
   "metadata": {},
   "outputs": [
    {
     "data": {
      "text/plain": [
       "array([[-0.12410832,  0.05558701,  0.00642456],\n",
       "       [ 0.10867617, -0.01040059,  0.01327613]])"
      ]
     },
     "execution_count": 83,
     "metadata": {},
     "output_type": "execute_result"
    }
   ],
   "source": [
    "#Сформировать 2D массив с распределением Гаусса\n",
    "np.random.normal(0, 0.1,size=(2,3))"
   ]
  },
  {
   "cell_type": "code",
   "execution_count": 86,
   "metadata": {},
   "outputs": [
    {
     "name": "stdout",
     "output_type": "stream",
     "text": [
      "[[0. 0. 0.]\n",
      " [0. 0. 0.]\n",
      " [0. 0. 0.]]\n",
      "[[0. 2. 0.]\n",
      " [0. 2. 0.]\n",
      " [0. 0. 0.]]\n"
     ]
    }
   ],
   "source": [
    "#Случайно расположить p элементов в 2D массив\n",
    "a = np.zeros((3,3))\n",
    "print(a)\n",
    "np.put(a, np.random.choice(range(3*3), 2, replace=False), 2)\n",
    "print(a)"
   ]
  },
  {
   "cell_type": "code",
   "execution_count": 90,
   "metadata": {},
   "outputs": [
    {
     "name": "stdout",
     "output_type": "stream",
     "text": [
      "[3.]\n",
      "[[0 2 7 2 4]]\n",
      "[[-3. -1.  4. -1.  1.]]\n"
     ]
    }
   ],
   "source": [
    "#Отнять среднее из каждой строки в матрице\n",
    "x = np.random.randint(0,10,size=(1, 5))\n",
    "y = x- x.mean(axis=1, keepdims=True)\n",
    "print(x.mean(axis=1))\n",
    "print(str(x)+'\\n'+str(y))"
   ]
  },
  {
   "cell_type": "code",
   "execution_count": 93,
   "metadata": {},
   "outputs": [
    {
     "name": "stdout",
     "output_type": "stream",
     "text": [
      "[[9 3 6]\n",
      " [4 9 5]\n",
      " [7 9 8]]\n",
      "[1 0 2]\n",
      "[[4 9 5]\n",
      " [9 3 6]\n",
      " [7 9 8]]\n"
     ]
    }
   ],
   "source": [
    "#Отсортировать матрицу по n-ому столбцу\n",
    "a = np.random.randint(0,10,(3,3))\n",
    "n = 2\n",
    "print(a)\n",
    "print(a[:,n].argsort())\n",
    "print(a[a[:,n].argsort()])"
   ]
  },
  {
   "cell_type": "code",
   "execution_count": 98,
   "metadata": {},
   "outputs": [
    {
     "name": "stdout",
     "output_type": "stream",
     "text": [
      "[[1 2 1 1 0 0 0 1 1 2]\n",
      " [2 1 0 2 1 2 2 0 0 2]\n",
      " [1 1 1 0 2 0 2 1 0 0]]\n",
      "False\n"
     ]
    }
   ],
   "source": [
    "#Определить, есть ли в 2D массиве нулевые столбцы\n",
    "a = np.random.randint(0,3,(3,10))\n",
    "print(a)\n",
    "print((~a.any(axis=0)).any())"
   ]
  },
  {
   "cell_type": "code",
   "execution_count": 5,
   "metadata": {},
   "outputs": [
    {
     "name": "stdout",
     "output_type": "stream",
     "text": [
      "[4 1 8 9 3 6 6 1 0 1]\n",
      "[2. 4. 1. 2. 2. 1. 3. 1. 2. 2.]\n"
     ]
    }
   ],
   "source": [
    "#Дан массив, добавить 1 к каждому элементу с индексом, заданным в другом массиве (осторожно с повторами)\n",
    "a = np.ones(10)\n",
    "i = np.random.randint(0,len(a),10)\n",
    "print(i)\n",
    "a += np.bincount(i, minlength=len(a))\n",
    "print(a)"
   ]
  },
  {
   "cell_type": "code",
   "execution_count": 37,
   "metadata": {},
   "outputs": [
    {
     "name": "stdout",
     "output_type": "stream",
     "text": [
      "[[ 38  92 242 206 147]\n",
      " [ 19  39  50 251  41]\n",
      " [ 48 218 250  48 232]\n",
      " [222  24 138  98 168]\n",
      " [ 25 139 108  58  99]]\n",
      "24\n"
     ]
    }
   ],
   "source": [
    "#Дан массив (w,h,3) (картинка) dtype=ubyte, посчитать количество различных цветов\n",
    "w,h = 5,5\n",
    "#I = np.random.randint(0, 2, (h,w,3)).astype(np.ubyte)\n",
    "#F = I[...,0] * 256*256  + I[...,1] * 256 #+ I[...,2]\n",
    "#n = len(np.unique(F))\n",
    "a=np.random.randint(0,256,size=(w, h))\n",
    "print(a)\n",
    "print(len(np.unique(a)))"
   ]
  },
  {
   "cell_type": "code",
   "execution_count": 31,
   "metadata": {},
   "outputs": [
    {
     "name": "stdout",
     "output_type": "stream",
     "text": [
      "[[87 73 81 59]\n",
      " [66 55 64 62]\n",
      " [83 79 61 58]\n",
      " [81 80 62 73]]\n"
     ]
    }
   ],
   "source": [
    "#Дан четырехмерный массив, посчитать сумму по последним двум осям\n",
    "a = np.random.randint(0,10, (4,4,4,4))\n",
    "sum = a.reshape(a.shape[:-2] + (-1,)).sum(axis=-1)\n",
    "print(sum)"
   ]
  },
  {
   "cell_type": "code",
   "execution_count": 109,
   "metadata": {},
   "outputs": [
    {
     "name": "stdout",
     "output_type": "stream",
     "text": [
      "[[6 5]\n",
      " [6 0]]\n",
      "[[5 7]\n",
      " [4 3]]\n"
     ]
    },
    {
     "data": {
      "text/plain": [
       "array([50, 42])"
      ]
     },
     "execution_count": 109,
     "metadata": {},
     "output_type": "execute_result"
    }
   ],
   "source": [
    "#Найти диагональные элементы произведения матриц\n",
    "a=np.random.randint(0,10,size=(2, 2))\n",
    "b=np.random.randint(0,10,size=(2, 2))\n",
    "print(str(a)+'\\n'+str(b))\n",
    "np.sum(a * b.T, axis=1)"
   ]
  }
 ],
 "metadata": {
  "kernelspec": {
   "display_name": "Python 3",
   "language": "python",
   "name": "python3"
  },
  "language_info": {
   "codemirror_mode": {
    "name": "ipython",
    "version": 3
   },
   "file_extension": ".py",
   "mimetype": "text/x-python",
   "name": "python",
   "nbconvert_exporter": "python",
   "pygments_lexer": "ipython3",
   "version": "3.7.3"
  }
 },
 "nbformat": 4,
 "nbformat_minor": 2
}
