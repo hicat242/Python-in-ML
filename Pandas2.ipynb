{
 "cells": [
  {
   "cell_type": "code",
   "execution_count": 2,
   "metadata": {},
   "outputs": [],
   "source": [
    "import sys\n",
    "import pandas as pd\n",
    "import numpy as np"
   ]
  },
  {
   "cell_type": "code",
   "execution_count": 3,
   "metadata": {},
   "outputs": [
    {
     "name": "stdout",
     "output_type": "stream",
     "text": [
      "0    11.657933\n",
      "1     8.576395\n",
      "2    -2.727001\n",
      "3     4.958081\n",
      "4     8.106680\n",
      "5     1.399572\n",
      "6     6.327558\n",
      "7     5.542743\n",
      "8     5.021457\n",
      "9     4.126999\n",
      "dtype: float64\n",
      "count    10.000000\n",
      "mean      5.299042\n",
      "std       3.963259\n",
      "min      -2.727001\n",
      "25%       4.334769\n",
      "50%       5.282100\n",
      "75%       7.661899\n",
      "max      11.657933\n",
      "dtype: float64\n"
     ]
    }
   ],
   "source": [
    "#Получить от объекта Series показатели описательной статистики\n",
    "data = np.random.RandomState(10)\n",
    "\n",
    "s = pd.Series(data.normal(5, 5, 10))\n",
    "print(s) \n",
    "stat = s.describe()\n",
    "print(stat)"
   ]
  },
  {
   "cell_type": "code",
   "execution_count": 4,
   "metadata": {},
   "outputs": [
    {
     "name": "stdout",
     "output_type": "stream",
     "text": [
      "b    2\n",
      "a    1\n",
      "c    1\n",
      "dtype: int64\n"
     ]
    }
   ],
   "source": [
    "#Узнать частоту уникальных элементов объекта Series (гистограмма)\n",
    "data = 'abcb'\n",
    "s = pd.Series(list(data))\n",
    "ans = s.value_counts()\n",
    "print(ans)"
   ]
  },
  {
   "cell_type": "code",
   "execution_count": 5,
   "metadata": {},
   "outputs": [
    {
     "name": "stdout",
     "output_type": "stream",
     "text": [
      "2    7\n",
      "1    4\n",
      "4    2\n",
      "dtype: int64\n",
      "0         2\n",
      "1         2\n",
      "2         1\n",
      "3     Other\n",
      "4         1\n",
      "5         2\n",
      "6     Other\n",
      "7         1\n",
      "8         2\n",
      "9         2\n",
      "10        1\n",
      "11        2\n",
      "12        2\n",
      "dtype: object\n"
     ]
    }
   ],
   "source": [
    "#Заменить все элементы объекта Series на \"Other\", кроме двух наиболее часто встречающихся\n",
    "data = np.random.RandomState(10)\n",
    "s = pd.Series(data.randint(low=1, high=5, size=[13]))\n",
    "print(s.value_counts())\n",
    "s[~s.isin(s.value_counts().index[:2])] = 'Other'\n",
    "print(s)"
   ]
  },
  {
   "cell_type": "code",
   "execution_count": 6,
   "metadata": {},
   "outputs": [
    {
     "name": "stdout",
     "output_type": "stream",
     "text": [
      "Сумма всех \"вторников\" 19.022549509214688\n",
      "\n",
      "Средние значения по месяцам:\n",
      " 2019-01-31    0.548097\n",
      "2019-02-28    0.446236\n",
      "2019-03-31    0.524579\n",
      "2019-04-30    0.353249\n",
      "2019-05-31    0.451818\n",
      "2019-06-30    0.563106\n",
      "2019-07-31    0.543819\n",
      "2019-08-31    0.469559\n",
      "2019-09-30    0.413680\n",
      "2019-10-31    0.551428\n",
      "2019-11-30    0.485001\n",
      "2019-12-31    0.665630\n",
      "Freq: M, dtype: float64\n",
      "\n"
     ]
    }
   ],
   "source": [
    "#Создать объект Series в индексах дата каждый день 2019 года, в значениях случайное значение\n",
    "#Найти сумму всех вторников\n",
    "#Для каждого месяца найти среднее значение\n",
    "\n",
    "dti = pd.date_range(start='2019-01-01', end='2019-12-31', freq='B') \n",
    "s = pd.Series(np.random.rand(len(dti)), index=dti)\n",
    " \n",
    "# \n",
    "ans1 = s[s.index.weekday == 2].sum()\n",
    "print('Сумма всех \"вторников\"', ans1)\n",
    "print()\n",
    " \n",
    "# \n",
    "ans2 = s.resample('M').mean()\n",
    "print('Средние значения по месяцам:\\n', ans2)\n",
    "print()"
   ]
  },
  {
   "cell_type": "code",
   "execution_count": 7,
   "metadata": {},
   "outputs": [
    {
     "name": "stdout",
     "output_type": "stream",
     "text": [
      "   0  1  2  3  4\n",
      "0  5  1  2  1  2\n",
      "1  9  1  9  7  5\n",
      "2  4  1  5  7  9\n",
      "3  2  9  5  2  4\n",
      "4  7  6  4  7  2\n",
      "5  5  3  7  8  9\n",
      "6  9  3  1  7  8\n"
     ]
    }
   ],
   "source": [
    "#Преобразовать объект Series в DataFrame заданной формы (shape)\n",
    "data = np.random.RandomState(10)\n",
    "s = pd.Series(data.randint(low=1, high=10, size=[35]))\n",
    "r = (7, 5)\n",
    "\n",
    "f = pd.DataFrame(s.values.reshape(r))\n",
    "print(f)"
   ]
  },
  {
   "cell_type": "code",
   "execution_count": 8,
   "metadata": {},
   "outputs": [
    {
     "name": "stdout",
     "output_type": "stream",
     "text": [
      "0    5\n",
      "1    6\n",
      "2    2\n",
      "3    3\n",
      "4    6\n",
      "5    3\n",
      "6    2\n",
      "dtype: int32\n",
      "Int64Index([1, 3, 4, 5], dtype='int64')\n"
     ]
    }
   ],
   "source": [
    "#Найти индексы объекта Series кратные 3\n",
    "s = pd.Series(np.random.randint(low=1, high=10, size=[7]))\n",
    "print(s)\n",
    "ind = s[s % 3 == 0].index\n",
    "print(ind)"
   ]
  },
  {
   "cell_type": "code",
   "execution_count": 9,
   "metadata": {},
   "outputs": [
    {
     "name": "stdout",
     "output_type": "stream",
     "text": [
      "0     a\n",
      "1     b\n",
      "2     c\n",
      "5     f\n",
      "10    k\n",
      "15    p\n",
      "dtype: object\n"
     ]
    }
   ],
   "source": [
    "#Получить данные по индексам объекта Series\n",
    "s = pd.Series(list('abcdefghijklmnopqrstuvwxyz'))\n",
    "p = [0, 1, 2, 5, 10, 15]\n",
    "ans1 = s[p]\n",
    "print(ans1)"
   ]
  },
  {
   "cell_type": "code",
   "execution_count": 10,
   "metadata": {},
   "outputs": [
    {
     "name": "stdout",
     "output_type": "stream",
     "text": [
      "0    0\n",
      "1    1\n",
      "2    2\n",
      "3    3\n",
      "4    4\n",
      "0    f\n",
      "1    i\n",
      "2    v\n",
      "3    e\n",
      "dtype: object\n",
      "   0    1\n",
      "0  0    f\n",
      "1  1    i\n",
      "2  2    v\n",
      "3  3    e\n",
      "4  4  NaN\n"
     ]
    }
   ],
   "source": [
    "#Объединить два объекта Series вертикально и горизонтально\n",
    "s1 = pd.Series(range(5))\n",
    "s2 = pd.Series(list('five'))\n",
    " \n",
    "ans_vertical = s1.append(s2)\n",
    "ans_horizontal = pd.concat([s1, s2], axis=1)\n",
    " \n",
    "print(ans_vertical)\n",
    "print(ans_horizontal)"
   ]
  },
  {
   "cell_type": "code",
   "execution_count": 11,
   "metadata": {},
   "outputs": [
    {
     "name": "stdout",
     "output_type": "stream",
     "text": [
      "[0 2 3 6]\n"
     ]
    },
    {
     "name": "stderr",
     "output_type": "stream",
     "text": [
      "C:\\Users\\Admin\\Anaconda3\\lib\\site-packages\\numpy\\core\\fromnumeric.py:56: FutureWarning: Series.nonzero() is deprecated and will be removed in a future version.Use Series.to_numpy().nonzero() instead\n",
      "  return getattr(obj, method)(*args, **kwds)\n"
     ]
    }
   ],
   "source": [
    "#Получить индексы объекта Series A, данные которых содержатся в объетке Series B\n",
    "s1 = pd.Series([5, 3, 2, 1, 4, 11, 13, 8, 7])\n",
    "s2 = pd.Series([1, 5, 13, 2])\n",
    "res = np.argwhere(s1.isin(s2)).flatten()\n",
    "print(res)"
   ]
  },
  {
   "cell_type": "code",
   "execution_count": 12,
   "metadata": {},
   "outputs": [
    {
     "name": "stdout",
     "output_type": "stream",
     "text": [
      "0    3\n",
      "1    6\n",
      "2    1\n",
      "3    4\n",
      "4    3\n",
      "5    6\n",
      "6    9\n",
      "7    6\n",
      "8    9\n",
      "9    7\n",
      "dtype: int32\n",
      "0    3\n",
      "1    6\n",
      "2    1\n",
      "3    4\n",
      "4    9\n",
      "5    7\n",
      "dtype: int64\n"
     ]
    }
   ],
   "source": [
    "#Получить объект Series B, котоырй содержит элементы без повторений объекта A\n",
    "s = pd.Series(np.random.randint(low=1, high=10, size=[10]))\n",
    "print(s)\n",
    "ans = pd.Series(s.unique())\n",
    "print(ans)"
   ]
  },
  {
   "cell_type": "code",
   "execution_count": 13,
   "metadata": {},
   "outputs": [
    {
     "name": "stdout",
     "output_type": "stream",
     "text": [
      "0    meaw\n",
      "1    meaw\n",
      "2    meaw\n",
      "dtype: object\n",
      "0    Meaw\n",
      "1    Meaw\n",
      "2    Meaw\n",
      "dtype: object\n",
      "[4 4 4]\n"
     ]
    }
   ],
   "source": [
    "#Преобразовать каждый символ объекта Series в верхний регистр\n",
    "s = pd.Series(['meaw', 'meaw', 'meaw'])\n",
    "print(s) \n",
    "res = s.map(lambda x: x.title())\n",
    "print(res)\n",
    "\n",
    "#Рассчитать количество символов в объекте Series\n",
    "res1 = np.asarray(s.map(lambda x: len(x)))\n",
    "print(res1)"
   ]
  },
  {
   "cell_type": "code",
   "execution_count": null,
   "metadata": {},
   "outputs": [],
   "source": [
    "#преобразовать данных Series в строку\n"
   ]
  },
  {
   "cell_type": "code",
   "execution_count": 14,
   "metadata": {},
   "outputs": [
    {
     "name": "stdout",
     "output_type": "stream",
     "text": [
      "0    NaN\n",
      "1    NaN\n",
      "2    6.0\n",
      "3    3.0\n",
      "4    5.0\n",
      "5    7.0\n",
      "6    5.0\n",
      "dtype: float64\n"
     ]
    }
   ],
   "source": [
    "#Найти разность между объектом Series и смещением объекта Series на n\n",
    "n = 2\n",
    "s = pd.Series([1, 5, 7, 8, 12, 15, 17])\n",
    "res = s.diff(periods=n)\n",
    "print(res)"
   ]
  },
  {
   "cell_type": "code",
   "execution_count": 15,
   "metadata": {},
   "outputs": [
    {
     "name": "stdout",
     "output_type": "stream",
     "text": [
      "0   2017-01-01\n",
      "1   2015-02-02\n",
      "2   2019-10-02\n",
      "3   2019-01-15\n",
      "dtype: datetime64[ns]\n"
     ]
    }
   ],
   "source": [
    "#Преобразовать разыне форматы строк объекта Series в дату\n",
    "s = pd.Series(['2017/01/01', '2015-02-02','2019.10.02' ,'15 Jan 2019'])\n",
    "res = pd.to_datetime(s)\n",
    "print(res)"
   ]
  },
  {
   "cell_type": "code",
   "execution_count": 16,
   "metadata": {},
   "outputs": [
    {
     "name": "stdout",
     "output_type": "stream",
     "text": [
      "0   2019-02-14\n",
      "1   2019-01-22\n",
      "2   2019-03-01\n",
      "dtype: datetime64[ns]\n"
     ]
    }
   ],
   "source": [
    "#Поскольку работа с датой часто встречается в работе, то см. еще один пример\n",
    "#все данные должны иметь одинаковый формат (часто бывает выгрузка из SQL)\n",
    "s = pd.Series(['14.02.2019', '22.01.2019', '01.03.2019'])\n",
    "#преобразовать в дату\n",
    "res = pd.to_datetime(s, format='%d.%m.%Y')\n",
    "print(res)\n"
   ]
  },
  {
   "cell_type": "code",
   "execution_count": 59,
   "metadata": {},
   "outputs": [
    {
     "name": "stdout",
     "output_type": "stream",
     "text": [
      "0    2018\n",
      "1    2011\n",
      "2    2012\n",
      "3    2013\n",
      "4    2018\n",
      "dtype: int64\n",
      "0     1\n",
      "1     2\n",
      "2     3\n",
      "3     4\n",
      "4    12\n",
      "dtype: int64\n",
      "0     1\n",
      "1     2\n",
      "2     3\n",
      "3     4\n",
      "4    31\n",
      "dtype: int64\n",
      "0     1\n",
      "1     5\n",
      "2     9\n",
      "3    14\n",
      "4     1\n",
      "dtype: int64\n",
      "0      1\n",
      "1     33\n",
      "2     63\n",
      "3     94\n",
      "4    365\n",
      "dtype: int64\n"
     ]
    }
   ],
   "source": [
    "#Получить год, месяц, день, день недели, номер дня в году от объекта Series (string)\n",
    "from dateutil.parser import parse\n",
    " \n",
    "s = pd.Series(['01 Jan 2018', '02-02-2011', '20120303', '2013/04/04', '2018-12-31'])\n",
    "s_ts = s.map(lambda x: parse(x, yearfirst=True)) #распарсить в дату и время\n",
    "print(s_ts.dt.year)        #получить года\n",
    "  \n",
    "print(s_ts.dt.month)       #получить месяца\n",
    "print(s_ts.dt.day)         #получить дни\n",
    "print(s_ts.dt.weekofyear)  #получить номер недели\n",
    "print(s_ts.dt.dayofyear)   #получить номер дня в году\n",
    "\n"
   ]
  },
  {
   "cell_type": "code",
   "execution_count": 17,
   "metadata": {},
   "outputs": [
    {
     "name": "stdout",
     "output_type": "stream",
     "text": [
      "0     мяу\n",
      "1    meaw\n",
      "2     кхе\n",
      "dtype: object\n",
      "0     мяу\n",
      "1    meaw\n",
      "dtype: object\n"
     ]
    }
   ],
   "source": [
    "#Отобрать элементы объекта Series, кторые содержат не менее двух гласных\n",
    "from collections import Counter\n",
    " \n",
    "s = pd.Series(['мяу', 'meaw', 'кхе'])\n",
    "print(s) \n",
    "mask = s.map(lambda x: sum([Counter(x.lower()).get(i, 0) for i in list('aeiouаоиеёэыуюя')]) >= 2)\n",
    "res = s[mask]\n",
    "print(res)"
   ]
  },
  {
   "cell_type": "code",
   "execution_count": 18,
   "metadata": {},
   "outputs": [
    {
     "name": "stdout",
     "output_type": "stream",
     "text": [
      "0    test@test.com\n",
      "1     test@mail.ru\n",
      "dtype: object\n"
     ]
    }
   ],
   "source": [
    "#Отобрать e-маилы из объекта Series (можно юзать регулярки)\n",
    "import re\n",
    " \n",
    "emails = pd.Series(['test@test.com', 'test@mail.ru', 'test.2ru'])\n",
    "pattern = '[A-Za-z0-9._%+-]+@[A-Za-z0-9.-]+\\\\.[A-Za-z]{2,4}'\n",
    "mask = emails.map(lambda x: bool(re.match(pattern, x)))\n",
    "res = emails[mask]\n",
    "print(res)"
   ]
  },
  {
   "cell_type": "code",
   "execution_count": 78,
   "metadata": {},
   "outputs": [
    {
     "name": "stdout",
     "output_type": "stream",
     "text": [
      "0    cola\n",
      "1    dogs\n",
      "2     cat\n",
      "3    dogs\n",
      "4    dogs\n",
      "dtype: object\n",
      "0    1.0\n",
      "1    2.0\n",
      "2    3.0\n",
      "3    4.0\n",
      "4    5.0\n",
      "dtype: float64\n",
      "cat     3.000000\n",
      "cola    1.000000\n",
      "dogs    3.666667\n",
      "dtype: float64\n"
     ]
    }
   ],
   "source": [
    "#Получить среднее значение каждого уникального объекта Series s1 через \"маску\" другого объекта Series s2\n",
    "s1 = pd.Series(np.random.choice(['cola', 'dogs', 'cat', 'dogs'], 5))\n",
    "print(s1)\n",
    "s2 = pd.Series(np.linspace(1,5,5))\n",
    "print(s2)\n",
    "res = s2.groupby(s1).mean()\n",
    "print(res)"
   ]
  },
  {
   "cell_type": "code",
   "execution_count": null,
   "metadata": {},
   "outputs": [],
   "source": []
  }
 ],
 "metadata": {
  "kernelspec": {
   "display_name": "Python 3",
   "language": "python",
   "name": "python3"
  },
  "language_info": {
   "codemirror_mode": {
    "name": "ipython",
    "version": 3
   },
   "file_extension": ".py",
   "mimetype": "text/x-python",
   "name": "python",
   "nbconvert_exporter": "python",
   "pygments_lexer": "ipython3",
   "version": "3.7.3"
  }
 },
 "nbformat": 4,
 "nbformat_minor": 2
}
